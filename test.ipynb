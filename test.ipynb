{
 "cells": [
  {
   "cell_type": "code",
   "execution_count": 1,
   "id": "0188b2be",
   "metadata": {},
   "outputs": [
    {
     "name": "stderr",
     "output_type": "stream",
     "text": [
      "INFO:ai_agent.GenericAgent:🌟 Agent initialized with ID: aea5a75b-43dd-4d40-a826-011cd978e6d8\n",
      "INFO:ai_agent.GenericAgent:⏺ Starting AI agent execution\n",
      "INFO:ai_agent.GenericAgent:  ⎿ Task: Create a hello.txt file with a friendly greeting\n",
      "INFO:ai_agent.GenericAgent:  ⎿ Max steps: 5\n",
      "INFO:ai_agent.GenericAgent:  ⎿ Agent settings: AgentSettings\n",
      "INFO:ai_agent.GenericAgent:⏺ Step 1/5: Beginning agent reasoning cycle\n",
      "INFO:ai_agent.GenericAgent:⏺ Preparing execution context for reasoning\n",
      "INFO:ai_agent.GenericAgent:  ⎿ Context prepared successfully\n",
      "INFO:ai_agent.GenericAgent:⏺ Querying LLM for next actions\n",
      "INFO:ai_agent.GenericAgent:  ⎿ Sending 2 messages to LLM\n"
     ]
    },
    {
     "name": "stdout",
     "output_type": "stream",
     "text": [
      "📋 Available actions: 14 total\n"
     ]
    },
    {
     "name": "stderr",
     "output_type": "stream",
     "text": [
      "INFO:httpx:HTTP Request: POST https://api.anthropic.com/v1/messages \"HTTP/1.1 200 OK\"\n",
      "INFO:ai_agent.GenericAgent:  ⎿ LLM responded in 6.55s: 2 actions, done=True\n",
      "INFO:ai_agent.GenericAgent:⏺ Agent reasoning process\n",
      "INFO:ai_agent.GenericAgent:  ⎿ I need to create a simple text file with a friendly greeting message. This is a straightforward task that can be accomplished with a single write_file action.\n",
      "INFO:ai_agent.GenericAgent:⏺ Planning next actions\n",
      "INFO:ai_agent.GenericAgent:  ⎿ Goal: Create hello.txt file with friendly greeting\n",
      "INFO:ai_agent.GenericAgent:⏺ LLM planned 2 actions\n",
      "INFO:ai_agent.GenericAgent:  ⎿ Action 1: write_file\n",
      "INFO:ai_agent.GenericAgent:  ⎿ Action 2: done\n",
      "INFO:ai_agent.GenericAgent:  ⎿ LLM response received, parsing actions\n",
      "INFO:ai_agent.GenericAgent:⏺ Executing planned actions\n",
      "INFO:ai_agent.GenericAgent:  ⎿ Found 2 valid actions to execute\n",
      "INFO:ai_agent.GenericAgent:⏺ Execute action 1/2: write_file\n",
      "INFO:ai_agent.GenericAgent:  ⎿ Parameters: path=hello.txt, content=Hello there! 👋\n",
      "\n",
      "I hope you're having a wonderful d..., append=False\n",
      "INFO:ai_agent.GenericAgent:  ⎿ Action succeeded in 0.00s: Successfully written to file: hello.txt\n",
      "INFO:ai_agent.GenericAgent:⏺ Execute action 2/2: done\n",
      "INFO:ai_agent.GenericAgent:  ⎿ Parameters: text=Successfully created hello.txt with a friendly gre...\n",
      "INFO:ai_agent.GenericAgent:  ⎿ Action succeeded in 0.00s: Successfully created hello.txt with a friendly greeting message\n",
      "INFO:ai_agent.GenericAgent:⏺ Task completion detected\n",
      "INFO:ai_agent.GenericAgent:  ⎿ Agent will finish after this step\n",
      "INFO:ai_agent.GenericAgent:  ⎿ All actions executed, 2 succeeded\n",
      "INFO:ai_agent.GenericAgent:  ⎿ Action execution completed\n",
      "INFO:ai_agent.GenericAgent:⏺ Post-processing step results\n",
      "INFO:ai_agent.GenericAgent:  ⎿ Step completed successfully\n",
      "INFO:ai_agent.GenericAgent:  ⎿ Step duration: 6.56s\n",
      "INFO:ai_agent.GenericAgent:📊 Step 0 completed in 6.56s | Actions: 2 | Failures: 0\n",
      "INFO:ai_agent.GenericAgent:⏺ Task completed successfully in 1 steps\n",
      "INFO:ai_agent.GenericAgent:  ⎿ Result: Task marked as done\n",
      "INFO:ai_agent.GenericAgent:🧹 Cleaning up agent resources...\n"
     ]
    },
    {
     "name": "stdout",
     "output_type": "stream",
     "text": [
      "Task completed: True\n",
      "✅ Success! hello.txt created: Hello there! 👋\n",
      "\n",
      "I hope you're having a wonderful day! Thanks for stopping by.\n",
      "\n",
      "Best wishes!\n"
     ]
    }
   ],
   "source": [
    "import asyncio\n",
    "import logging\n",
    "from pathlib import Path\n",
    "\n",
    "from ai_agent.agent.service import GenericAgent\n",
    "from ai_agent.agent.context import SimpleExecutionContext\n",
    "from ai_agent.controller.service import Controller\n",
    "from ai_agent.filesystem import FileSystem\n",
    "from ai_agent.llm.factory import create_llm\n",
    "from ai_agent.llm.views import LLMType\n",
    "from ai_agent.registry import Registry\n",
    "from ai_agent.registry_helper import register_all_actions\n",
    "\n",
    "async def main():\n",
    "    # Enable debug logging\n",
    "    logging.basicConfig(level=logging.INFO)\n",
    "    \n",
    "    # Set up components\n",
    "    llm = create_llm(LLMType.ANTHROPIC, model='claude-3-5-sonnet-20241022')\n",
    "    file_system = FileSystem()\n",
    "    \n",
    "    # Create controller (creates its own registry internally)\n",
    "    controller = Controller(context_param_types={'file_system': FileSystem})\n",
    "    \n",
    "    # Register actions with the controller's registry\n",
    "    register_all_actions(controller.registry, file_system)\n",
    "    \n",
    "    # Create execution context\n",
    "    execution_context = SimpleExecutionContext(\n",
    "        file_system=file_system,\n",
    "        llm=llm,\n",
    "        registry=controller.registry,\n",
    "    )\n",
    "    \n",
    "    # Create and run agent\n",
    "    agent = GenericAgent(\n",
    "        task=\"Create a hello.txt file with a friendly greeting\",\n",
    "        llm=llm,\n",
    "        execution_context=execution_context,\n",
    "        controller=controller,\n",
    "        file_system=file_system,\n",
    "    )\n",
    "    \n",
    "    history = await agent.run(max_steps=5)\n",
    "    if history.last and history.last.model_output:\n",
    "        print(f\"Task completed: {history.last.model_output.is_done}\")\n",
    "        if history.last.model_output.is_done:\n",
    "            # Check if hello.txt was created\n",
    "            hello_file = Path(\"hello.txt\")\n",
    "            if hello_file.exists():\n",
    "                print(f\"✅ Success! hello.txt created: {hello_file.read_text()}\")\n",
    "            else:\n",
    "                print(\"❌ Task marked done but hello.txt not found\")\n",
    "    else:\n",
    "        print(\"Agent failed to complete the task\")\n",
    "\n",
    "await main()"
   ]
  },
  {
   "cell_type": "code",
   "execution_count": null,
   "id": "e1382940",
   "metadata": {},
   "outputs": [],
   "source": []
  }
 ],
 "metadata": {
  "kernelspec": {
   "display_name": "aiagent",
   "language": "python",
   "name": "python3"
  },
  "language_info": {
   "codemirror_mode": {
    "name": "ipython",
    "version": 3
   },
   "file_extension": ".py",
   "mimetype": "text/x-python",
   "name": "python",
   "nbconvert_exporter": "python",
   "pygments_lexer": "ipython3",
   "version": "3.11.13"
  }
 },
 "nbformat": 4,
 "nbformat_minor": 5
}
